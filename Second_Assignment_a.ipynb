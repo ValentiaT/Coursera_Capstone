{
 "cells": [
  {
   "cell_type": "markdown",
   "metadata": {},
   "source": [
    "#### Import all the relevant libraries"
   ]
  },
  {
   "cell_type": "code",
   "execution_count": 1,
   "metadata": {},
   "outputs": [],
   "source": [
    "import warnings\n",
    "warnings.filterwarnings(\"ignore\")\n",
    "\n",
    "import requests\n",
    "import os\n",
    "import codecs\n",
    "import pandas as pd\n",
    "import numpy as np"
   ]
  },
  {
   "cell_type": "markdown",
   "metadata": {},
   "source": [
    "#### Import the web scraping library; BeautifulSoup"
   ]
  },
  {
   "cell_type": "code",
   "execution_count": 2,
   "metadata": {},
   "outputs": [],
   "source": [
    "from bs4 import BeautifulSoup"
   ]
  },
  {
   "cell_type": "markdown",
   "metadata": {},
   "source": [
    "#### Define the wikipedia page. "
   ]
  },
  {
   "cell_type": "code",
   "execution_count": 3,
   "metadata": {},
   "outputs": [],
   "source": [
    "wikipage = \"https://en.wikipedia.org/wiki/List_of_postal_codes_of_Canada:_M\""
   ]
  },
  {
   "cell_type": "markdown",
   "metadata": {},
   "source": [
    "html5lib, in the above function plays the role of parsers, html parsers e.g lxml\n",
    "\n",
    "These offer an interface for programmers to easily access and modify of the \"HTML string code\""
   ]
  },
  {
   "cell_type": "code",
   "execution_count": 4,
   "metadata": {},
   "outputs": [],
   "source": [
    "def get_wikipedia(wikipage):\n",
    "    \"\"\"\n",
    "        This function does a HTTP get request to retrieve the wikipedia page. \n",
    "    \"\"\"\n",
    "    page = requests.get(wikipage).text\n",
    "    soup = BeautifulSoup(page, 'html5lib')\n",
    "\n",
    "    return soup"
   ]
  },
  {
   "cell_type": "markdown",
   "metadata": {},
   "source": [
    "The function below trims out all the unnecessary html tags to give the dataset corresponding to \n",
    "Postcode, borough and neighbourhood. It also saves the resulting set to a csv file. "
   ]
  },
  {
   "cell_type": "code",
   "execution_count": 5,
   "metadata": {},
   "outputs": [],
   "source": [
    "def convert_table(html_soup, name='wiki_table', return_df=True):\n",
    "    \"\"\"\n",
    "       This function converts the BeautifulSoup html object \n",
    "       to a pandas dataframe, saves the resulting table to a csv file. \n",
    "       \n",
    "    \"\"\"\n",
    "    tables = html_soup.findAll(\"table\", { \"class\" : \"wikitable\" })\n",
    "    for tn in range(len(tables)):\n",
    "        table=tables[tn]\n",
    "        # Initialize list of lists\n",
    "        rows=table.findAll(\"tr\")\n",
    "        row_lengths=[len(r.findAll(['th','td'])) for r in rows]\n",
    "        ncols=max(row_lengths)\n",
    "        nrows=len(rows)\n",
    "        data=[]\n",
    "        for i in range(nrows):\n",
    "            rowD=[]\n",
    "            for j in range(ncols):\n",
    "                rowD.append('')\n",
    "            data.append(rowD)\n",
    "\n",
    "        # processing the html\n",
    "        for i in range(len(rows)):\n",
    "            row=rows[i]\n",
    "            rowD=[]\n",
    "            cells = row.findAll([\"td\",\"th\"])\n",
    "            for j in range(len(cells)):\n",
    "                cell=cells[j]\n",
    "\n",
    "                #lots of cells span cols and rows so lets deal with that\n",
    "                col_span=int(cell.get('colspan',1))\n",
    "                row_span=int(cell.get('rowspan',1))\n",
    "                for k in range(row_span):\n",
    "                    for l in range(col_span):\n",
    "                        data[i+k][j+l]+=cell.text\n",
    "\n",
    "            data.append(rowD)\n",
    "\n",
    "        # write data to a file\n",
    "            page=name.split('/')[-1]\n",
    "        fname='table_{}_{}.csv'.format(tn, page)\n",
    "        f = codecs.open(fname, 'w')\n",
    "        for i in range(nrows):\n",
    "            rowStr=','.join(data[i])\n",
    "            rowStr=rowStr.replace('\\n','')\n",
    "            f.write(rowStr+'\\n')    \n",
    "    \n",
    "    f.close()\n",
    "    \n",
    "    if return_df:\n",
    "        return pd.read_csv(fname)\n",
    "    \n",
    "    return fname"
   ]
  },
  {
   "cell_type": "markdown",
   "metadata": {},
   "source": [
    "The function below is responsible for dealing with not assigned values within the postcode entries. It also eliminates all duplicates by using a group by clause. "
   ]
  },
  {
   "cell_type": "code",
   "execution_count": 6,
   "metadata": {},
   "outputs": [],
   "source": [
    "def postal_codes(raw_df):\n",
    "    \"\"\"\n",
    "        This function replaces the 'Not assigned' entries with Not a Number\n",
    "        and than those entries are filled in with the Borough column entries.\n",
    "        Returns: a dataframe grouped by Postcode and Borough.\n",
    "    \"\"\"\n",
    "    postal_codes = raw_df.replace(to_replace='Not assigned', value=np.nan)\n",
    "    \n",
    "    postal_codes['Neighbourhood'] = postal_codes.Neighbourhood.fillna(postal_codes[\"Borough\"])\n",
    "    \n",
    "    postal_codes_df = (postal_codes\n",
    "            .dropna(axis=0)\n",
    "            .sort_values('Neighbourhood')\n",
    "            .groupby(['Postcode', 'Borough'], \n",
    "                     as_index=False,\n",
    "                     sort=False\n",
    "                    )['Neighbourhood']\n",
    "            .agg(lambda col: ', '.join(col)))\n",
    "    \n",
    "    return postal_codes_df"
   ]
  },
  {
   "cell_type": "markdown",
   "metadata": {},
   "source": [
    "The below function combines all the functions defined above to form a web scraping pipeline. "
   ]
  },
  {
   "cell_type": "code",
   "execution_count": 7,
   "metadata": {},
   "outputs": [],
   "source": [
    "def web_scraping_pipeline(page):\n",
    "    \"\"\"\n",
    "        This function calls the above functions that form a web scraping pipeline. \n",
    "    \"\"\"\n",
    "    page_html = get_wikipedia(page)\n",
    "    table_df = convert_table(page_html, return_df=True)\n",
    "    return postal_codes(table_df)"
   ]
  },
  {
   "cell_type": "code",
   "execution_count": 8,
   "metadata": {},
   "outputs": [],
   "source": [
    "# Call the pipeline\n",
    "postcodes_df = web_scraping_pipeline(wikipage)"
   ]
  },
  {
   "cell_type": "markdown",
   "metadata": {},
   "source": [
    "#### Sanity check. Print the first 20 entries. "
   ]
  },
  {
   "cell_type": "code",
   "execution_count": 9,
   "metadata": {},
   "outputs": [
    {
     "data": {
      "text/html": [
       "<div>\n",
       "<style scoped>\n",
       "    .dataframe tbody tr th:only-of-type {\n",
       "        vertical-align: middle;\n",
       "    }\n",
       "\n",
       "    .dataframe tbody tr th {\n",
       "        vertical-align: top;\n",
       "    }\n",
       "\n",
       "    .dataframe thead th {\n",
       "        text-align: right;\n",
       "    }\n",
       "</style>\n",
       "<table border=\"1\" class=\"dataframe\">\n",
       "  <thead>\n",
       "    <tr style=\"text-align: right;\">\n",
       "      <th></th>\n",
       "      <th>Postcode</th>\n",
       "      <th>Borough</th>\n",
       "      <th>Neighbourhood</th>\n",
       "    </tr>\n",
       "  </thead>\n",
       "  <tbody>\n",
       "    <tr>\n",
       "      <th>0</th>\n",
       "      <td>M5H</td>\n",
       "      <td>Downtown Toronto</td>\n",
       "      <td>Adelaide, King, Richmond</td>\n",
       "    </tr>\n",
       "    <tr>\n",
       "      <th>1</th>\n",
       "      <td>M1S</td>\n",
       "      <td>Scarborough</td>\n",
       "      <td>Agincourt</td>\n",
       "    </tr>\n",
       "    <tr>\n",
       "      <th>2</th>\n",
       "      <td>M1V</td>\n",
       "      <td>Scarborough</td>\n",
       "      <td>Agincourt North, L'Amoreaux East, Milliken, St...</td>\n",
       "    </tr>\n",
       "    <tr>\n",
       "      <th>3</th>\n",
       "      <td>M9V</td>\n",
       "      <td>Etobicoke</td>\n",
       "      <td>Albion Gardens, Beaumond Heights, Humbergate, ...</td>\n",
       "    </tr>\n",
       "    <tr>\n",
       "      <th>4</th>\n",
       "      <td>M8W</td>\n",
       "      <td>Etobicoke</td>\n",
       "      <td>Alderwood, Long Branch</td>\n",
       "    </tr>\n",
       "    <tr>\n",
       "      <th>5</th>\n",
       "      <td>M3H</td>\n",
       "      <td>North York</td>\n",
       "      <td>Bathurst Manor, Downsview North, Wilson Heights</td>\n",
       "    </tr>\n",
       "    <tr>\n",
       "      <th>6</th>\n",
       "      <td>M5V</td>\n",
       "      <td>Downtown Toronto</td>\n",
       "      <td>Bathurst Quay, CN Tower, Harbourfront West, Is...</td>\n",
       "    </tr>\n",
       "    <tr>\n",
       "      <th>7</th>\n",
       "      <td>M2K</td>\n",
       "      <td>North York</td>\n",
       "      <td>Bayview Village</td>\n",
       "    </tr>\n",
       "    <tr>\n",
       "      <th>8</th>\n",
       "      <td>M5M</td>\n",
       "      <td>North York</td>\n",
       "      <td>Bedford Park, Lawrence Manor East</td>\n",
       "    </tr>\n",
       "    <tr>\n",
       "      <th>9</th>\n",
       "      <td>M5E</td>\n",
       "      <td>Downtown Toronto</td>\n",
       "      <td>Berczy Park</td>\n",
       "    </tr>\n",
       "    <tr>\n",
       "      <th>10</th>\n",
       "      <td>M1N</td>\n",
       "      <td>Scarborough</td>\n",
       "      <td>Birch Cliff, Cliffside West</td>\n",
       "    </tr>\n",
       "    <tr>\n",
       "      <th>11</th>\n",
       "      <td>M9C</td>\n",
       "      <td>Etobicoke</td>\n",
       "      <td>Bloordale Gardens, Eringate, Markland Wood, Ol...</td>\n",
       "    </tr>\n",
       "    <tr>\n",
       "      <th>12</th>\n",
       "      <td>M6K</td>\n",
       "      <td>West Toronto</td>\n",
       "      <td>Brockton, Exhibition Place, Parkdale Village</td>\n",
       "    </tr>\n",
       "    <tr>\n",
       "      <th>13</th>\n",
       "      <td>M7Y</td>\n",
       "      <td>East Toronto</td>\n",
       "      <td>Business Reply Mail Processing Centre 969 Eastern</td>\n",
       "    </tr>\n",
       "    <tr>\n",
       "      <th>14</th>\n",
       "      <td>M3K</td>\n",
       "      <td>North York</td>\n",
       "      <td>CFB Toronto, Downsview East</td>\n",
       "    </tr>\n",
       "    <tr>\n",
       "      <th>15</th>\n",
       "      <td>M4X</td>\n",
       "      <td>Downtown Toronto</td>\n",
       "      <td>Cabbagetown, St. James Town</td>\n",
       "    </tr>\n",
       "    <tr>\n",
       "      <th>16</th>\n",
       "      <td>M6E</td>\n",
       "      <td>York</td>\n",
       "      <td>Caledonia-Fairbanks</td>\n",
       "    </tr>\n",
       "    <tr>\n",
       "      <th>17</th>\n",
       "      <td>M7R</td>\n",
       "      <td>Mississauga</td>\n",
       "      <td>Canada Post Gateway Processing Centre</td>\n",
       "    </tr>\n",
       "    <tr>\n",
       "      <th>18</th>\n",
       "      <td>M1H</td>\n",
       "      <td>Scarborough</td>\n",
       "      <td>Cedarbrae</td>\n",
       "    </tr>\n",
       "    <tr>\n",
       "      <th>19</th>\n",
       "      <td>M5G</td>\n",
       "      <td>Downtown Toronto</td>\n",
       "      <td>Central Bay Street</td>\n",
       "    </tr>\n",
       "  </tbody>\n",
       "</table>\n",
       "</div>"
      ],
      "text/plain": [
       "   Postcode           Borough  \\\n",
       "0       M5H  Downtown Toronto   \n",
       "1       M1S       Scarborough   \n",
       "2       M1V       Scarborough   \n",
       "3       M9V         Etobicoke   \n",
       "4       M8W         Etobicoke   \n",
       "5       M3H        North York   \n",
       "6       M5V  Downtown Toronto   \n",
       "7       M2K        North York   \n",
       "8       M5M        North York   \n",
       "9       M5E  Downtown Toronto   \n",
       "10      M1N       Scarborough   \n",
       "11      M9C         Etobicoke   \n",
       "12      M6K      West Toronto   \n",
       "13      M7Y      East Toronto   \n",
       "14      M3K        North York   \n",
       "15      M4X  Downtown Toronto   \n",
       "16      M6E              York   \n",
       "17      M7R       Mississauga   \n",
       "18      M1H       Scarborough   \n",
       "19      M5G  Downtown Toronto   \n",
       "\n",
       "                                        Neighbourhood  \n",
       "0                            Adelaide, King, Richmond  \n",
       "1                                           Agincourt  \n",
       "2   Agincourt North, L'Amoreaux East, Milliken, St...  \n",
       "3   Albion Gardens, Beaumond Heights, Humbergate, ...  \n",
       "4                              Alderwood, Long Branch  \n",
       "5     Bathurst Manor, Downsview North, Wilson Heights  \n",
       "6   Bathurst Quay, CN Tower, Harbourfront West, Is...  \n",
       "7                                     Bayview Village  \n",
       "8                   Bedford Park, Lawrence Manor East  \n",
       "9                                         Berczy Park  \n",
       "10                        Birch Cliff, Cliffside West  \n",
       "11  Bloordale Gardens, Eringate, Markland Wood, Ol...  \n",
       "12       Brockton, Exhibition Place, Parkdale Village  \n",
       "13  Business Reply Mail Processing Centre 969 Eastern  \n",
       "14                        CFB Toronto, Downsview East  \n",
       "15                        Cabbagetown, St. James Town  \n",
       "16                                Caledonia-Fairbanks  \n",
       "17              Canada Post Gateway Processing Centre  \n",
       "18                                          Cedarbrae  \n",
       "19                                 Central Bay Street  "
      ]
     },
     "execution_count": 9,
     "metadata": {},
     "output_type": "execute_result"
    }
   ],
   "source": [
    "postcodes_df.head(20)"
   ]
  },
  {
   "cell_type": "code",
   "execution_count": 10,
   "metadata": {},
   "outputs": [
    {
     "name": "stdout",
     "output_type": "stream",
     "text": [
      "(103, 3)\n"
     ]
    }
   ],
   "source": [
    "## Print the shape of the dataframe\n",
    "print(postcodes_df.shape)"
   ]
  }
 ],
 "metadata": {
  "kernelspec": {
   "display_name": "Python 3",
   "language": "python",
   "name": "python3"
  },
  "language_info": {
   "codemirror_mode": {
    "name": "ipython",
    "version": 3
   },
   "file_extension": ".py",
   "mimetype": "text/x-python",
   "name": "python",
   "nbconvert_exporter": "python",
   "pygments_lexer": "ipython3",
   "version": "3.7.1"
  }
 },
 "nbformat": 4,
 "nbformat_minor": 2
}
