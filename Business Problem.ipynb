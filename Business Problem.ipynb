{
 "cells": [
  {
   "cell_type": "markdown",
   "metadata": {},
   "source": [
    "#### Introduction\n",
    "\n",
    "The below business problem will assist us in knowing if we can use real estate historical data to predict which neighbourhoohds are best for starting real estate business. It is known that essential facilities such as  elementary schools, high schools, hospitals & grocery stores influence the house prices for a given area. Can we use foursquare API and property data to help home buyers make the right decision.\n",
    "\n",
    "#### Business Problem\n",
    "\n",
    "In this scenario, it is urgent to adopt machine learning tools in order to assist homebuyers in London to make wise and effective decisions. As a result, the business problem we are currently posing is: how could we provide support to homebuyers in to purchase a suitable real estate in London in this uncertain economic and financial scenario? \n",
    "\n",
    "To solve this business problem, we are going to cluster London neighborhoods in order to recommend venues and the current average price of real estate where homebuyers can make a real estate investment. We will recommend profitable venues according to amenities and essential facilities surrounding such venues i.e. elementary schools, high schools, hospitals & grocery stores."
   ]
  },
  {
   "cell_type": "code",
   "execution_count": null,
   "metadata": {},
   "outputs": [],
   "source": []
  }
 ],
 "metadata": {
  "kernelspec": {
   "display_name": "Python 3",
   "language": "python",
   "name": "python3"
  },
  "language_info": {
   "codemirror_mode": {
    "name": "ipython",
    "version": 3
   },
   "file_extension": ".py",
   "mimetype": "text/x-python",
   "name": "python",
   "nbconvert_exporter": "python",
   "pygments_lexer": "ipython3",
   "version": "3.7.1"
  }
 },
 "nbformat": 4,
 "nbformat_minor": 2
}
